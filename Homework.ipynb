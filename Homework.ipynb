{
 "cells": [
  {
   "cell_type": "markdown",
   "metadata": {},
   "source": [
    "# Práctica Clase 1 "
   ]
  },
  {
   "cell_type": "markdown",
   "metadata": {},
   "source": [
    "1) Crear una función capaz de convertir números enteros de base 10 a base 2. Debe recibir como parámetro el número a convertir<br>\n",
    "Consideraciones:<br> \n",
    "a. Tratar de resolverlo sin usar la función format(nro,\"b\")<br>\n",
    "b. El pdf \"conversion-de-decimal-a-binario.pdf\" puede servir de ayuda.\n"
   ]
  },
  {
   "cell_type": "code",
   "execution_count": 2,
   "metadata": {},
   "outputs": [],
   "source": [
    "def NumeroBinario(numero):\n",
    "    '''\n",
    "    Esta función recibe como parámetro un número entero mayor ó igual a cero y lo devuelve en su \n",
    "    representación binaria. Debe recibir y devolver un valor de tipo entero.\n",
    "    En caso de que el parámetro no sea de tipo entero y mayor a -1 retorna nulo.\n",
    "    '''\n",
    "    if numero < 0 or not isinstance(numero,int):\n",
    "        return None\n",
    "    resultado = \"\"\n",
    "    while numero > 0:\n",
    "        resultado = str(numero % 2) + resultado\n",
    "        numero = numero // 2\n",
    "    return int(resultado) \n"
   ]
  },
  {
   "cell_type": "code",
   "execution_count": 3,
   "metadata": {},
   "outputs": [
    {
     "data": {
      "text/plain": [
       "1001"
      ]
     },
     "execution_count": 3,
     "metadata": {},
     "output_type": "execute_result"
    }
   ],
   "source": [
    "#Ejemplo:\n",
    "NumeroBinario(9)"
   ]
  },
  {
   "cell_type": "markdown",
   "metadata": {},
   "source": [
    "2) Convertir de decimal a binario las fracciones 1/2, 1/3, 1/4, 1/5, 1/6, 1/7, 1/8, 1/9. Luego analizar los resultados y observar qué particularidad se encuentra en los mismos. Se puede usar Python o una calculadora, lo importante es ver si hay algo que podemos notar..."
   ]
  },
  {
   "cell_type": "code",
   "execution_count": 4,
   "metadata": {},
   "outputs": [],
   "source": [
    "def decimal_to_binary(num):\n",
    "    integer_part = int(num)\n",
    "    fractional_part = num - integer_part\n",
    "\n",
    "    # convert integer part to binary\n",
    "    integer_binary = \"\"\n",
    "    while integer_part > 0:\n",
    "        integer_binary = str(integer_part % 2) + integer_binary\n",
    "        integer_part = integer_part // 2\n",
    "\n",
    "    # add leading zero to integer binary\n",
    "    if integer_binary == \"\":\n",
    "        integer_binary = \"0\"\n",
    "\n",
    "    # convert fractional part to binary\n",
    "    fractional_binary = \"\"\n",
    "    while fractional_part > 0:\n",
    "        fractional_part *= 2\n",
    "        if fractional_part >= 1:\n",
    "            fractional_binary += \"1\"\n",
    "            fractional_part -= 1\n",
    "        else:\n",
    "            fractional_binary += \"0\"\n",
    "\n",
    "    return integer_binary + \".\" + fractional_binary"
   ]
  },
  {
   "cell_type": "code",
   "execution_count": 8,
   "metadata": {},
   "outputs": [
    {
     "name": "stdout",
     "output_type": "stream",
     "text": [
      "0.1\n",
      "0.010101010101010101010101010101010101010101010101010101\n",
      "0.01\n",
      "0.001100110011001100110011001100110011001100110011001101\n",
      "0.0010101010101010101010101010101010101010101010101010101\n",
      "0.001001001001001001001001001001001001001001001001001001\n",
      "0.001\n",
      "0.000111000111000111000111000111000111000111000111000111\n"
     ]
    }
   ],
   "source": [
    "print (decimal_to_binary(1/2))\n",
    "print (decimal_to_binary(1/3))\n",
    "print (decimal_to_binary(1/4))\n",
    "print (decimal_to_binary(1/5))\n",
    "print (decimal_to_binary(1/6))\n",
    "print (decimal_to_binary(1/7))\n",
    "print (decimal_to_binary(1/8))\n",
    "print (decimal_to_binary(1/9))"
   ]
  },
  {
   "cell_type": "markdown",
   "metadata": {},
   "source": [
    "Salida esperada:\n",
    "* Fraccion 1 / 2 :  0.5  y En binario:  0.1\n",
    "* Fraccion 1 / 3 :  0.3333333333333333  y En binario:  0.010101010101010101010101\n",
    "* Fraccion 1 / 4 :  0.25  y En binario:  0.01\n",
    "* Fraccion 1 / 5 :  0.2  y En binario:  0.001100110011001100110011\n",
    "* Fraccion 1 / 6 :  0.16666666666666666  y En binario:  0.001010101010101010101010\n",
    "* Fraccion 1 / 7 :  0.14285714285714285  y En binario:  0.001001001001001001001001\n",
    "* Fraccion 1 / 8 :  0.125  y En binario:  0.001\n",
    "* Fraccion 1 / 9 :  0.1111111111111111  y En binario:  0.000111000111000111000111"
   ]
  }
 ],
 "metadata": {
  "kernelspec": {
   "display_name": "Python 3",
   "language": "python",
   "name": "python3"
  },
  "language_info": {
   "codemirror_mode": {
    "name": "ipython",
    "version": 3
   },
   "file_extension": ".py",
   "mimetype": "text/x-python",
   "name": "python",
   "nbconvert_exporter": "python",
   "pygments_lexer": "ipython3",
   "version": "3.10.8"
  },
  "orig_nbformat": 4,
  "vscode": {
   "interpreter": {
    "hash": "79974d27c4e5500dbcec0ebf2ff0beb30382854c00a67a7415891ca8bfd1acd1"
   }
  }
 },
 "nbformat": 4,
 "nbformat_minor": 2
}
